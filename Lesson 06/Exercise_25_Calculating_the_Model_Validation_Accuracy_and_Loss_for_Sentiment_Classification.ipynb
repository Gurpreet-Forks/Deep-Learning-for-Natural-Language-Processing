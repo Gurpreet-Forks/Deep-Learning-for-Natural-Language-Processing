{
  "nbformat": 4,
  "nbformat_minor": 0,
  "metadata": {
    "colab": {
      "name": "Exercise_25_Calculating the Model Validation Accuracy and Loss for Sentiment Classification.ipynb",
      "version": "0.3.2",
      "provenance": [],
      "collapsed_sections": []
    },
    "kernelspec": {
      "display_name": "Python 3",
      "language": "python",
      "name": "python3"
    }
  },
  "cells": [
    {
      "cell_type": "code",
      "metadata": {
        "id": "_jqEknkWL0Sr",
        "colab_type": "code",
        "outputId": "1b550f39-adde-482d-c95b-3c8f0fe8d55d",
        "colab": {
          "base_uri": "https://localhost:8080/",
          "height": 34
        }
      },
      "source": [
        "from keras.datasets import imdb"
      ],
      "execution_count": 0,
      "outputs": [
        {
          "output_type": "stream",
          "text": [
            "Using TensorFlow backend.\n"
          ],
          "name": "stderr"
        }
      ]
    },
    {
      "cell_type": "code",
      "metadata": {
        "id": "MYQxFoiiL0Su",
        "colab_type": "code",
        "colab": {}
      },
      "source": [
        "max_features = 10000\n",
        "maxlen = 500"
      ],
      "execution_count": 0,
      "outputs": []
    },
    {
      "cell_type": "code",
      "metadata": {
        "id": "hY2NUt4mL0Sw",
        "colab_type": "code",
        "outputId": "a6fdd03c-0f36-469d-ac9c-858eaccc80bf",
        "colab": {
          "base_uri": "https://localhost:8080/",
          "height": 85
        }
      },
      "source": [
        "(train_data, y_train), (test_data, y_test) = imdb.load_data(num_words=max_features)\n",
        "print('Number of train sequences: ', len(train_data))\n",
        "print('Number of test sequences: ', len(test_data))"
      ],
      "execution_count": 0,
      "outputs": [
        {
          "output_type": "stream",
          "text": [
            "Downloading data from https://s3.amazonaws.com/text-datasets/imdb.npz\n",
            "17465344/17464789 [==============================] - 0s 0us/step\n",
            "Number of train sequences:  25000\n",
            "Number of test sequences:  25000\n"
          ],
          "name": "stdout"
        }
      ]
    },
    {
      "cell_type": "code",
      "metadata": {
        "id": "fuGTlnuzL0Sy",
        "colab_type": "code",
        "colab": {}
      },
      "source": [
        "from keras.preprocessing import sequence\n",
        "train_data = sequence.pad_sequences(train_data, maxlen=maxlen)\n",
        "test_data = sequence.pad_sequences(test_data, maxlen=maxlen)"
      ],
      "execution_count": 0,
      "outputs": []
    },
    {
      "cell_type": "code",
      "metadata": {
        "id": "-YenQLvHL0S0",
        "colab_type": "code",
        "outputId": "7c2c5455-be2c-40bd-d114-2f32d7df0960",
        "colab": {
          "base_uri": "https://localhost:8080/",
          "height": 51
        }
      },
      "source": [
        "print('train_data shape:', train_data.shape)\n",
        "print('test_data shape:', test_data.shape)"
      ],
      "execution_count": 0,
      "outputs": [
        {
          "output_type": "stream",
          "text": [
            "train_data shape: (25000, 500)\n",
            "test_data shape: (25000, 500)\n"
          ],
          "name": "stdout"
        }
      ]
    },
    {
      "cell_type": "code",
      "metadata": {
        "id": "IChc4IyYL0S1",
        "colab_type": "code",
        "colab": {}
      },
      "source": [
        "from keras.models import Sequential\n",
        "from keras.layers import Embedding\n",
        "from keras.layers import Dense\n",
        "from keras.layers import GRU"
      ],
      "execution_count": 0,
      "outputs": []
    },
    {
      "cell_type": "code",
      "metadata": {
        "id": "luh_S9ifL0S3",
        "colab_type": "code",
        "outputId": "ca260d83-b2e7-4aa4-cc02-93ee5e50fec9",
        "colab": {
          "base_uri": "https://localhost:8080/",
          "height": 88
        }
      },
      "source": [
        "model = Sequential()\n",
        "model.add(Embedding(max_features, 32))"
      ],
      "execution_count": 0,
      "outputs": [
        {
          "output_type": "stream",
          "text": [
            "WARNING:tensorflow:From /usr/local/lib/python3.6/dist-packages/tensorflow/python/framework/op_def_library.py:263: colocate_with (from tensorflow.python.framework.ops) is deprecated and will be removed in a future version.\n",
            "Instructions for updating:\n",
            "Colocations handled automatically by placer.\n"
          ],
          "name": "stdout"
        }
      ]
    },
    {
      "cell_type": "code",
      "metadata": {
        "id": "aN51HfVrL0S5",
        "colab_type": "code",
        "colab": {}
      },
      "source": [
        "model.add(GRU(32))\n",
        "model.add(Dense(1, activation='sigmoid'))"
      ],
      "execution_count": 0,
      "outputs": []
    },
    {
      "cell_type": "code",
      "metadata": {
        "id": "uuXdYnTtL0S7",
        "colab_type": "code",
        "colab": {}
      },
      "source": [
        "model.compile(optimizer='rmsprop',\n",
        "              loss='binary_crossentropy',\n",
        "              metrics=['acc'])"
      ],
      "execution_count": 0,
      "outputs": []
    },
    {
      "cell_type": "code",
      "metadata": {
        "id": "K2UChzkkL0S_",
        "colab_type": "code",
        "outputId": "e7f34872-2cc4-47c8-8d0c-f582cd75391e",
        "colab": {
          "base_uri": "https://localhost:8080/",
          "height": 445
        }
      },
      "source": [
        "history = model.fit(train_data, y_train,\n",
        "                    epochs=10,\n",
        "                    batch_size=128,\n",
        "                    validation_split=0.2)"
      ],
      "execution_count": 0,
      "outputs": [
        {
          "output_type": "stream",
          "text": [
            "WARNING:tensorflow:From /usr/local/lib/python3.6/dist-packages/tensorflow/python/ops/math_ops.py:3066: to_int32 (from tensorflow.python.ops.math_ops) is deprecated and will be removed in a future version.\n",
            "Instructions for updating:\n",
            "Use tf.cast instead.\n",
            "Train on 20000 samples, validate on 5000 samples\n",
            "Epoch 1/10\n",
            "20000/20000 [==============================] - 60s 3ms/step - loss: 0.4944 - acc: 0.7461 - val_loss: 0.3655 - val_acc: 0.8516\n",
            "Epoch 2/10\n",
            "20000/20000 [==============================] - 95s 5ms/step - loss: 0.2918 - acc: 0.8831 - val_loss: 0.3320 - val_acc: 0.8620\n",
            "Epoch 3/10\n",
            "20000/20000 [==============================] - 109s 5ms/step - loss: 0.2385 - acc: 0.9070 - val_loss: 0.3681 - val_acc: 0.8452\n",
            "Epoch 4/10\n",
            "20000/20000 [==============================] - 106s 5ms/step - loss: 0.2098 - acc: 0.9212 - val_loss: 0.3223 - val_acc: 0.8692\n",
            "Epoch 5/10\n",
            "20000/20000 [==============================] - 82s 4ms/step - loss: 0.1858 - acc: 0.9313 - val_loss: 0.6193 - val_acc: 0.8076\n",
            "Epoch 6/10\n",
            "20000/20000 [==============================] - 59s 3ms/step - loss: 0.1773 - acc: 0.9335 - val_loss: 0.3786 - val_acc: 0.8490\n",
            "Epoch 7/10\n",
            "20000/20000 [==============================] - 59s 3ms/step - loss: 0.1565 - acc: 0.9431 - val_loss: 0.3786 - val_acc: 0.8448\n",
            "Epoch 8/10\n",
            "20000/20000 [==============================] - 59s 3ms/step - loss: 0.1507 - acc: 0.9460 - val_loss: 0.3776 - val_acc: 0.8724\n",
            "Epoch 9/10\n",
            "20000/20000 [==============================] - 59s 3ms/step - loss: 0.1383 - acc: 0.9504 - val_loss: 0.4513 - val_acc: 0.8450\n",
            "Epoch 10/10\n",
            "20000/20000 [==============================] - 59s 3ms/step - loss: 0.1308 - acc: 0.9546 - val_loss: 0.5941 - val_acc: 0.8316\n"
          ],
          "name": "stdout"
        }
      ]
    },
    {
      "cell_type": "code",
      "metadata": {
        "id": "ZzGFUNLUL0TB",
        "colab_type": "code",
        "colab": {}
      },
      "source": [
        "import matplotlib.pyplot as plt\n",
        " \n",
        "def plot_results(history):\n",
        "    acc = history.history['acc']\n",
        "    val_acc = history.history['val_acc']\n",
        "    loss = history.history['loss']\n",
        "    val_loss = history.history['val_loss']\n",
        "    \n",
        "    epochs = range(1, len(acc) + 1)\n",
        "    plt.plot(epochs, acc, 'bo', label='Training Accuracy')\n",
        "    plt.plot(epochs, val_acc, 'b', label='Validation Accuracy')\n",
        " \n",
        "    plt.title('Training and validation Accuracy')\n",
        "    plt.legend()\n",
        "    plt.figure()\n",
        "    plt.plot(epochs, loss, 'bo', label='Training Loss')\n",
        "    plt.plot(epochs, val_loss, 'b', label='Validation Loss')\n",
        "    plt.title('Training and validation Loss')\n",
        "    plt.legend()\n",
        "    plt.show()"
      ],
      "execution_count": 0,
      "outputs": []
    },
    {
      "cell_type": "code",
      "metadata": {
        "id": "JuBqWUQkL0TC",
        "colab_type": "code",
        "outputId": "35ab024c-5d32-4e3c-bea6-e99df4421819",
        "colab": {
          "base_uri": "https://localhost:8080/",
          "height": 707
        }
      },
      "source": [
        "plot_results(history)"
      ],
      "execution_count": 0,
      "outputs": [
        {
          "output_type": "display_data",
          "data": {
            "image/png": "[encoded data removed]",
            "text/plain": [
              "<Figure size 576x396 with 1 Axes>"
            ]
          },
          "metadata": {
            "tags": []
          }
        },
        {
          "output_type": "display_data",
          "data": {
            "image/png": "[encoded data removed]",
            "text/plain": [
              "<Figure size 576x396 with 1 Axes>"
            ]
          },
          "metadata": {
            "tags": []
          }
        }
      ]
    },
    {
      "cell_type": "code",
      "metadata": {
        "id": "zTjkiXZQL4OU",
        "colab_type": "code",
        "colab": {}
      },
      "source": [
        ""
      ],
      "execution_count": 0,
      "outputs": []
    }
  ]
}