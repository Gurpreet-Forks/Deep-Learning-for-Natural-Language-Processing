{
  "nbformat": 4,
  "nbformat_minor": 0,
  "metadata": {
    "colab": {
      "name": "Exercise 26:Text_Generation_with_GRU.ipynb",
      "version": "0.3.2",
      "provenance": [],
      "collapsed_sections": []
    },
    "kernelspec": {
      "display_name": "Python 3",
      "language": "python",
      "name": "python3"
    }
  },
  "cells": [
    {
      "cell_type": "code",
      "metadata": {
        "id": "PfaDsmuVMq97",
        "colab_type": "code",
        "outputId": "e476499a-654a-466e-a258-c1aeadb38c0b",
        "colab": {
          "base_uri": "https://localhost:8080/",
          "height": 34
        }
      },
      "source": [
        "import io\n",
        "import sys\n",
        "import random\n",
        "import string\n",
        "import numpy as np\n",
        "from keras.models import Sequential\n",
        "from keras.layers import Dense\n",
        "from keras.layers import GRU\n",
        "from keras.optimizers import RMSprop"
      ],
      "execution_count": 0,
      "outputs": [
        {
          "output_type": "stream",
          "text": [
            "Using TensorFlow backend.\n"
          ],
          "name": "stderr"
        }
      ]
    },
    {
      "cell_type": "code",
      "metadata": {
        "id": "knwTaP1EMq-A",
        "colab_type": "code",
        "outputId": "9e5a5580-e9bb-4430-fde5-71f9957ebf0b",
        "colab": {
          "base_uri": "https://localhost:8080/",
          "height": 170
        }
      },
      "source": [
        "def load_text(filename):\n",
        "    with open(filename, 'r') as f:\n",
        "        text = f.read()\n",
        "    return text\n",
        " \n",
        "file_poem = 'drive/shakespeare_poems.txt' # Path of the file\n",
        "text = load_text(file_poem)\n",
        "print(text[:200])"
      ],
      "execution_count": 0,
      "outputs": [
        {
          "output_type": "stream",
          "text": [
            "\n",
            "THE SONNETS\n",
            "\n",
            "by William Shakespeare\n",
            "\n",
            "From fairest creatures we desire increase,\n",
            "That thereby beauty's rose might never die,\n",
            "But as the riper should by time decease,\n",
            "His tender heir might bear his mem\n"
          ],
          "name": "stdout"
        }
      ]
    },
    {
      "cell_type": "code",
      "metadata": {
        "id": "ag_3Cv1uMq-D",
        "colab_type": "code",
        "outputId": "1df3b228-3bde-4705-d339-396dc9b161d3",
        "colab": {
          "base_uri": "https://localhost:8080/",
          "height": 34
        }
      },
      "source": [
        "chars = sorted(list(set(text)))\n",
        "print('Number of distinct characters:', len(chars))\n",
        "char_indices = dict((c, i) for i, c in enumerate(chars))\n",
        "indices_char = dict((i, c) for i, c in enumerate(chars))"
      ],
      "execution_count": 0,
      "outputs": [
        {
          "output_type": "stream",
          "text": [
            "Number of distinct characters: 61\n"
          ],
          "name": "stdout"
        }
      ]
    },
    {
      "cell_type": "code",
      "metadata": {
        "id": "tBociMWwMq-G",
        "colab_type": "code",
        "outputId": "cfb0456e-6fd5-4a11-ee78-54e79b5013e5",
        "colab": {
          "base_uri": "https://localhost:8080/",
          "height": 34
        }
      },
      "source": [
        "max_len_chars = 40\n",
        "step = 3\n",
        "sentences = []\n",
        "next_chars = []\n",
        "for i in range(0, len(text) - max_len_chars, step):\n",
        "    sentences.append(text[i: i + max_len_chars])\n",
        "    next_chars.append(text[i + max_len_chars])\n",
        "print('nb sequences:', len(sentences))"
      ],
      "execution_count": 0,
      "outputs": [
        {
          "output_type": "stream",
          "text": [
            "nb sequences: 31327\n"
          ],
          "name": "stdout"
        }
      ]
    },
    {
      "cell_type": "code",
      "metadata": {
        "id": "OG5S-hhkMq-J",
        "colab_type": "code",
        "colab": {}
      },
      "source": [
        "x = np.zeros((len(sentences), max_len_chars, len(chars)), dtype=np.bool)\n",
        "y = np.zeros((len(sentences), len(chars)), dtype=np.bool)\n",
        "for i, sentence in enumerate(sentences):\n",
        "    for t, char in enumerate(sentence):\n",
        "        x[i, t, char_indices[char]] = 1\n",
        "    y[i, char_indices[next_chars[i]]] = 1"
      ],
      "execution_count": 0,
      "outputs": []
    },
    {
      "cell_type": "code",
      "metadata": {
        "id": "jx1jPWovMq-L",
        "colab_type": "code",
        "outputId": "39116e9c-2bed-486e-c689-333d8fdc3953",
        "colab": {
          "base_uri": "https://localhost:8080/",
          "height": 88
        }
      },
      "source": [
        "model = Sequential()\n",
        "model.add(GRU(128, input_shape=(max_len_chars, len(chars))))\n",
        "model.add(Dense(len(chars), activation='softmax'))\n",
        "optimizer = RMSprop(lr=0.01)\n",
        "model.compile(loss='categorical_crossentropy', optimizer=optimizer)"
      ],
      "execution_count": 0,
      "outputs": [
        {
          "output_type": "stream",
          "text": [
            "WARNING:tensorflow:From /usr/local/lib/python3.6/dist-packages/tensorflow/python/framework/op_def_library.py:263: colocate_with (from tensorflow.python.framework.ops) is deprecated and will be removed in a future version.\n",
            "Instructions for updating:\n",
            "Colocations handled automatically by placer.\n"
          ],
          "name": "stdout"
        }
      ]
    },
    {
      "cell_type": "code",
      "metadata": {
        "id": "7DNIsdHNMq-N",
        "colab_type": "code",
        "outputId": "22e9243c-518e-4f2a-a6d4-d94fb92a594d",
        "colab": {
          "base_uri": "https://localhost:8080/",
          "height": 428
        }
      },
      "source": [
        "model.fit(x, y,batch_size=128,epochs=10)\n",
        "model.save(\"poem_gen_model.h5\")"
      ],
      "execution_count": 0,
      "outputs": [
        {
          "output_type": "stream",
          "text": [
            "WARNING:tensorflow:From /usr/local/lib/python3.6/dist-packages/tensorflow/python/ops/math_ops.py:3066: to_int32 (from tensorflow.python.ops.math_ops) is deprecated and will be removed in a future version.\n",
            "Instructions for updating:\n",
            "Use tf.cast instead.\n",
            "Epoch 1/10\n",
            "31327/31327 [==============================] - 29s 912us/step - loss: 2.2775\n",
            "Epoch 2/10\n",
            "31327/31327 [==============================] - 28s 894us/step - loss: 1.9028\n",
            "Epoch 3/10\n",
            "31327/31327 [==============================] - 28s 896us/step - loss: 1.7642\n",
            "Epoch 4/10\n",
            "31327/31327 [==============================] - 28s 894us/step - loss: 1.6717\n",
            "Epoch 5/10\n",
            "31327/31327 [==============================] - 28s 895us/step - loss: 1.6048\n",
            "Epoch 6/10\n",
            "31327/31327 [==============================] - 29s 910us/step - loss: 1.5464\n",
            "Epoch 7/10\n",
            "31327/31327 [==============================] - 28s 904us/step - loss: 1.5048\n",
            "Epoch 8/10\n",
            "31327/31327 [==============================] - 28s 906us/step - loss: 1.4712\n",
            "Epoch 9/10\n",
            "31327/31327 [==============================] - 28s 895us/step - loss: 1.4451\n",
            "Epoch 10/10\n",
            "31327/31327 [==============================] - 28s 894us/step - loss: 1.4324\n"
          ],
          "name": "stdout"
        }
      ]
    },
    {
      "cell_type": "code",
      "metadata": {
        "id": "kXC4c_urMq-P",
        "colab_type": "code",
        "colab": {}
      },
      "source": [
        "from keras.models import load_model\n",
        "model_loaded = load_model('poem_gen_model.h5')"
      ],
      "execution_count": 0,
      "outputs": []
    },
    {
      "cell_type": "code",
      "metadata": {
        "id": "eCavmfGKMq-S",
        "colab_type": "code",
        "colab": {}
      },
      "source": [
        "def sample(preds, temperature=1.0):\n",
        "    # helper function to sample an index from a probability array\n",
        "    preds = np.asarray(preds).astype('float64')\n",
        "    preds = np.log(preds) / temperature\n",
        "    exp_preds = np.exp(preds)\n",
        "    preds = exp_preds / np.sum(exp_preds)\n",
        "    probas = np.random.multinomial(1, preds, 1)\n",
        "    return np.argmax(probas)"
      ],
      "execution_count": 0,
      "outputs": []
    },
    {
      "cell_type": "code",
      "metadata": {
        "id": "Y74jvyBOMq-U",
        "colab_type": "code",
        "colab": {}
      },
      "source": [
        "def generate_poem(model, num_chars_to_generate=400):\n",
        "    start_index = random.randint(0, len(text) - max_len_chars - 1)\n",
        "    generated = ''\n",
        "    sentence = text[start_index: start_index + max_len_chars]\n",
        "    generated += sentence\n",
        "    print(\"Seed sentence: {}\".format(generated))\n",
        "    for i in range(num_chars_to_generate):\n",
        "        x_pred = np.zeros((1, max_len_chars, len(chars)))\n",
        "        for t, char in enumerate(sentence):\n",
        "            x_pred[0, t, char_indices[char]] = 1.\n",
        "            \n",
        "        preds = model.predict(x_pred, verbose=0)[0]\n",
        "        next_index = sample(preds, 1)\n",
        "        next_char = indices_char[next_index]\n",
        " \n",
        "        generated += next_char\n",
        "        sentence = sentence[1:] + next_char\n",
        "    return generated"
      ],
      "execution_count": 0,
      "outputs": []
    },
    {
      "cell_type": "code",
      "metadata": {
        "id": "8TBra_9AMq-V",
        "colab_type": "code",
        "outputId": "1f8a9513-c490-4e61-da0a-faea81f60cbe",
        "colab": {
          "base_uri": "https://localhost:8080/",
          "height": 68
        }
      },
      "source": [
        "generate_poem(model_loaded, 100)"
      ],
      "execution_count": 0,
      "outputs": [
        {
          "output_type": "stream",
          "text": [
            "Seed sentence: my sake,\n",
            "So him I lose through my unkind\n"
          ],
          "name": "stdout"
        },
        {
          "output_type": "execute_result",
          "data": {
            "text/plain": [
              "'my sake,\\nSo him I lose through my unkind wide upen\\nis imine.\\nWorlets from nor thy sfullight arpain flade,\\nIn sthat fitt, row and hears lors '"
            ]
          },
          "metadata": {
            "tags": []
          },
          "execution_count": 11
        }
      ]
    },
    {
      "cell_type": "code",
      "metadata": {
        "id": "fgm7r5O-Mq-X",
        "colab_type": "code",
        "colab": {}
      },
      "source": [
        ""
      ],
      "execution_count": 0,
      "outputs": []
    },
    {
      "cell_type": "code",
      "metadata": {
        "id": "Eie97B7kMq-Z",
        "colab_type": "code",
        "colab": {}
      },
      "source": [
        ""
      ],
      "execution_count": 0,
      "outputs": []
    }
  ]
}