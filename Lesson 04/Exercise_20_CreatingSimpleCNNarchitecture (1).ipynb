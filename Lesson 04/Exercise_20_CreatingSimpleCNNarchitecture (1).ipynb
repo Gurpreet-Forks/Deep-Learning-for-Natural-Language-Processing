{
  "nbformat": 4,
  "nbformat_minor": 0,
  "metadata": {
    "colab": {
      "name": "Exercise 20_CreatingSimpleCNNarchitecture.ipynb",
      "version": "0.3.2",
      "provenance": []
    },
    "kernelspec": {
      "name": "python3",
      "display_name": "Python 3"
    }
  },
  "cells": [
    {
      "cell_type": "code",
      "metadata": {
        "id": "NnslyI_FbQ0C",
        "colab_type": "code",
        "outputId": "741f6549-f983-4cf2-e061-581d8e1b37a7",
        "colab": {
          "base_uri": "https://localhost:8080/",
          "height": 34
        }
      },
      "source": [
        "from keras.models import Sequential #For stacking layers\n",
        "from keras.layers import Dense, Conv2D, Flatten, MaxPooling2D, Dropout\n",
        "from keras.utils import plot_model\n"
      ],
      "execution_count": 0,
      "outputs": [
        {
          "output_type": "stream",
          "text": [
            "Using TensorFlow backend.\n"
          ],
          "name": "stderr"
        }
      ]
    },
    {
      "cell_type": "code",
      "metadata": {
        "id": "5pZDQC-ObUVe",
        "colab_type": "code",
        "colab": {}
      },
      "source": [
        "num_classes = 10"
      ],
      "execution_count": 0,
      "outputs": []
    },
    {
      "cell_type": "code",
      "metadata": {
        "id": "7gpzIhizbVV1",
        "colab_type": "code",
        "colab": {}
      },
      "source": [
        "model = Sequential()"
      ],
      "execution_count": 0,
      "outputs": []
    },
    {
      "cell_type": "code",
      "metadata": {
        "id": "-b3RaSGDbWaY",
        "colab_type": "code",
        "outputId": "f13c0db8-dee3-4902-b7d4-3d899cfa1ce8",
        "colab": {
          "base_uri": "https://localhost:8080/",
          "height": 68
        }
      },
      "source": [
        "model.add(Conv2D(64, kernel_size=3, activation='relu', input_shape=(28,28,1)))\n",
        "model.add(Conv2D(32, kernel_size=3, activation='relu'))\n"
      ],
      "execution_count": 0,
      "outputs": [
        {
          "output_type": "stream",
          "text": [
            "WARNING:tensorflow:From /usr/local/lib/python3.6/dist-packages/tensorflow/python/framework/op_def_library.py:263: colocate_with (from tensorflow.python.framework.ops) is deprecated and will be removed in a future version.\n",
            "Instructions for updating:\n",
            "Colocations handled automatically by placer.\n"
          ],
          "name": "stdout"
        }
      ]
    },
    {
      "cell_type": "code",
      "metadata": {
        "id": "zusl8-28baL8",
        "colab_type": "code",
        "outputId": "26ccf942-716c-49cb-c76b-2f9405160fa1",
        "colab": {
          "base_uri": "https://localhost:8080/",
          "height": 68
        }
      },
      "source": [
        "model.add(MaxPooling2D(pool_size=(2, 2)))\n",
        "model.add(Dropout(0.25))\n"
      ],
      "execution_count": 0,
      "outputs": [
        {
          "output_type": "stream",
          "text": [
            "WARNING:tensorflow:From /usr/local/lib/python3.6/dist-packages/keras/backend/tensorflow_backend.py:3445: calling dropout (from tensorflow.python.ops.nn_ops) with keep_prob is deprecated and will be removed in a future version.\n",
            "Instructions for updating:\n",
            "Please use `rate` instead of `keep_prob`. Rate should be set to `rate = 1 - keep_prob`.\n"
          ],
          "name": "stdout"
        }
      ]
    },
    {
      "cell_type": "code",
      "metadata": {
        "id": "8G4ugKxhbdVk",
        "colab_type": "code",
        "colab": {}
      },
      "source": [
        "model.add(Flatten())\n",
        "model.add(Dense(num_classes, activation='softmax'))\n"
      ],
      "execution_count": 0,
      "outputs": []
    },
    {
      "cell_type": "code",
      "metadata": {
        "id": "J7mHgPmibfik",
        "colab_type": "code",
        "outputId": "f1590d2a-26de-4d5b-e454-cca5f2b461d7",
        "colab": {
          "base_uri": "https://localhost:8080/",
          "height": 340
        }
      },
      "source": [
        "model.summary()"
      ],
      "execution_count": 0,
      "outputs": [
        {
          "output_type": "stream",
          "text": [
            "_________________________________________________________________\n",
            "Layer (type)                 Output Shape              Param #   \n",
            "=================================================================\n",
            "conv2d_1 (Conv2D)            (None, 26, 26, 64)        640       \n",
            "_________________________________________________________________\n",
            "conv2d_2 (Conv2D)            (None, 24, 24, 32)        18464     \n",
            "_________________________________________________________________\n",
            "max_pooling2d_1 (MaxPooling2 (None, 12, 12, 32)        0         \n",
            "_________________________________________________________________\n",
            "dropout_1 (Dropout)          (None, 12, 12, 32)        0         \n",
            "_________________________________________________________________\n",
            "flatten_1 (Flatten)          (None, 4608)              0         \n",
            "_________________________________________________________________\n",
            "dense_1 (Dense)              (None, 10)                46090     \n",
            "=================================================================\n",
            "Total params: 65,194\n",
            "Trainable params: 65,194\n",
            "Non-trainable params: 0\n",
            "_________________________________________________________________\n"
          ],
          "name": "stdout"
        }
      ]
    },
    {
      "cell_type": "code",
      "metadata": {
        "id": "XFob41wQbjv-",
        "colab_type": "code",
        "colab": {}
      },
      "source": [
        "plot_model(model, to_file='model.png')"
      ],
      "execution_count": 0,
      "outputs": []
    },
    {
      "cell_type": "code",
      "metadata": {
        "id": "gPnHi1GKcAc-",
        "colab_type": "code",
        "colab": {}
      },
      "source": [
        "import keras"
      ],
      "execution_count": 0,
      "outputs": []
    },
    {
      "cell_type": "code",
      "metadata": {
        "id": "eG8gyJdSb6Lf",
        "colab_type": "code",
        "colab": {}
      },
      "source": [
        "epochs=12"
      ],
      "execution_count": 0,
      "outputs": []
    },
    {
      "cell_type": "code",
      "metadata": {
        "id": "3J386u4Sb9_q",
        "colab_type": "code",
        "colab": {}
      },
      "source": [
        "(X_train, y_train), (X_test, y_test) = keras.datasets.mnist.load_data()"
      ],
      "execution_count": 0,
      "outputs": []
    },
    {
      "cell_type": "code",
      "metadata": {
        "id": "kiKXEuz1cFtU",
        "colab_type": "code",
        "colab": {}
      },
      "source": [
        "X_train = X_train.reshape(60000,28,28,1) #60,000 is the number of training examples\n",
        "X_test = X_test.reshape(10000,28,28,1)\n"
      ],
      "execution_count": 0,
      "outputs": []
    },
    {
      "cell_type": "code",
      "metadata": {
        "id": "IJ8IC7-LcI1Y",
        "colab_type": "code",
        "outputId": "118cc709-2e57-4eb5-d538-3a8b01d4cf2b",
        "colab": {
          "base_uri": "https://localhost:8080/",
          "height": 85
        }
      },
      "source": [
        "#Demonstrating the to_categorical method\n",
        "from keras.utils import to_categorical\n",
        "example = [1,0,3,2]\n",
        "to_categorical(example)\n"
      ],
      "execution_count": 0,
      "outputs": [
        {
          "output_type": "execute_result",
          "data": {
            "text/plain": [
              "array([[0., 1., 0., 0.],\n",
              "       [1., 0., 0., 0.],\n",
              "       [0., 0., 0., 1.],\n",
              "       [0., 0., 1., 0.]], dtype=float32)"
            ]
          },
          "metadata": {
            "tags": []
          },
          "execution_count": 16
        }
      ]
    },
    {
      "cell_type": "code",
      "metadata": {
        "id": "CTn3lP3DcK-c",
        "colab_type": "code",
        "colab": {}
      },
      "source": [
        "from keras.utils import to_categorical\n",
        "y_train = to_categorical(y_train)\n",
        "y_test = to_categorical(y_test)\n"
      ],
      "execution_count": 0,
      "outputs": []
    },
    {
      "cell_type": "code",
      "metadata": {
        "id": "hgiHU4CocNZP",
        "colab_type": "code",
        "colab": {}
      },
      "source": [
        "model.compile(optimizer='adam', loss='categorical_crossentropy', metrics=['accuracy'])"
      ],
      "execution_count": 0,
      "outputs": []
    },
    {
      "cell_type": "code",
      "metadata": {
        "id": "gBqsmv0fcTHM",
        "colab_type": "code",
        "outputId": "a09ae612-47c5-4f98-d749-d523afc7c8bb",
        "colab": {
          "base_uri": "https://localhost:8080/",
          "height": 510
        }
      },
      "source": [
        "model.fit(X_train, y_train, validation_data=(X_test, y_test), epochs=epochs)"
      ],
      "execution_count": 0,
      "outputs": [
        {
          "output_type": "stream",
          "text": [
            "WARNING:tensorflow:From /usr/local/lib/python3.6/dist-packages/tensorflow/python/ops/math_ops.py:3066: to_int32 (from tensorflow.python.ops.math_ops) is deprecated and will be removed in a future version.\n",
            "Instructions for updating:\n",
            "Use tf.cast instead.\n",
            "Train on 60000 samples, validate on 10000 samples\n",
            "Epoch 1/12\n",
            "60000/60000 [==============================] - 216s 4ms/step - loss: 0.3406 - acc: 0.9367 - val_loss: 0.0760 - val_acc: 0.9773\n",
            "Epoch 2/12\n",
            "60000/60000 [==============================] - 214s 4ms/step - loss: 0.0887 - acc: 0.9730 - val_loss: 0.0783 - val_acc: 0.9770\n",
            "Epoch 3/12\n",
            "60000/60000 [==============================] - 214s 4ms/step - loss: 0.0723 - acc: 0.9781 - val_loss: 0.0583 - val_acc: 0.9824\n",
            "Epoch 4/12\n",
            "60000/60000 [==============================] - 212s 4ms/step - loss: 0.0599 - acc: 0.9816 - val_loss: 0.0500 - val_acc: 0.9836\n",
            "Epoch 5/12\n",
            "60000/60000 [==============================] - 212s 4ms/step - loss: 0.0504 - acc: 0.9838 - val_loss: 0.0559 - val_acc: 0.9834\n",
            "Epoch 6/12\n",
            "60000/60000 [==============================] - 212s 4ms/step - loss: 0.0465 - acc: 0.9854 - val_loss: 0.0543 - val_acc: 0.9854\n",
            "Epoch 7/12\n",
            "60000/60000 [==============================] - 212s 4ms/step - loss: 0.0427 - acc: 0.9867 - val_loss: 0.0529 - val_acc: 0.9856\n",
            "Epoch 8/12\n",
            "60000/60000 [==============================] - 211s 4ms/step - loss: 0.0396 - acc: 0.9880 - val_loss: 0.0599 - val_acc: 0.9834\n",
            "Epoch 9/12\n",
            "60000/60000 [==============================] - 212s 4ms/step - loss: 0.0365 - acc: 0.9884 - val_loss: 0.0560 - val_acc: 0.9864\n",
            "Epoch 10/12\n",
            "60000/60000 [==============================] - 211s 4ms/step - loss: 0.0345 - acc: 0.9896 - val_loss: 0.0621 - val_acc: 0.9844\n",
            "Epoch 11/12\n",
            "60000/60000 [==============================] - 207s 3ms/step - loss: 0.0334 - acc: 0.9900 - val_loss: 0.0570 - val_acc: 0.9864\n",
            "Epoch 12/12\n",
            "60000/60000 [==============================] - 208s 3ms/step - loss: 0.0315 - acc: 0.9908 - val_loss: 0.0649 - val_acc: 0.9869\n"
          ],
          "name": "stdout"
        },
        {
          "output_type": "execute_result",
          "data": {
            "text/plain": [
              "<keras.callbacks.History at 0x7f7fb7be4240>"
            ]
          },
          "metadata": {
            "tags": []
          },
          "execution_count": 19
        }
      ]
    },
    {
      "cell_type": "code",
      "metadata": {
        "id": "Wvm03l9Fmr_t",
        "colab_type": "code",
        "outputId": "ab43771f-9f24-43aa-b583-ffe18a86a9b4",
        "colab": {
          "base_uri": "https://localhost:8080/",
          "height": 51
        }
      },
      "source": [
        "score = model.evaluate(X_test, y_test, verbose=0)\n",
        "print('Test loss:', score[0])\n",
        "print('Test accuracy:', score[1])\n"
      ],
      "execution_count": 0,
      "outputs": [
        {
          "output_type": "stream",
          "text": [
            "Test loss: 0.064864255218799\n",
            "Test accuracy: 0.9869\n"
          ],
          "name": "stdout"
        }
      ]
    }
  ]
}