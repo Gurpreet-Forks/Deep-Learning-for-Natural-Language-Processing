{
  "nbformat": 4,
  "nbformat_minor": 0,
  "metadata": {
    "colab": {
      "name": "Exercise 02.ipynb",
      "version": "0.3.2",
      "provenance": []
    },
    "kernelspec": {
      "name": "python3",
      "display_name": "Python 3"
    }
  },
  "cells": [
    {
      "cell_type": "code",
      "metadata": {
        "id": "qHTNhOayUJsj",
        "colab_type": "code",
        "colab": {}
      },
      "source": [
        "import re\n",
        "def clean_words(text):\n",
        "  text = re.sub(\"(<.*?>)\",\"\",text)\n",
        "  text=re.sub(\"(\\W|\\d+)\",\" \",text)\n",
        "  text=text.strip()\n",
        "  \n",
        "  return text"
      ],
      "execution_count": 0,
      "outputs": []
    },
    {
      "cell_type": "code",
      "metadata": {
        "id": "JVIGcTNeU_h0",
        "colab_type": "code",
        "colab": {}
      },
      "source": [
        "raw = ['..sleepy', 'sleepy!!', '#sleepy', '>>>>>sleepy>>>>', '<a>sleepy</a>']"
      ],
      "execution_count": 0,
      "outputs": []
    },
    {
      "cell_type": "code",
      "metadata": {
        "id": "hhp9G6bPVCE7",
        "colab_type": "code",
        "colab": {
          "base_uri": "https://localhost:8080/",
          "height": 34
        },
        "outputId": "ee24db54-f05b-484a-f163-daa8e24be88d"
      },
      "source": [
        "clean = [clean_words(r) for r in raw]\n",
        "print(clean)"
      ],
      "execution_count": 5,
      "outputs": [
        {
          "output_type": "stream",
          "text": [
            "['sleepy', 'sleepy', 'sleepy', 'sleepy', 'sleepy']\n"
          ],
          "name": "stdout"
        }
      ]
    }
  ]
}