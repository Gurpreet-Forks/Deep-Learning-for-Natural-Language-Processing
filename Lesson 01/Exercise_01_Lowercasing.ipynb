{
  "nbformat": 4,
  "nbformat_minor": 0,
  "metadata": {
    "colab": {
      "name": "Exercise 01.ipynb",
      "version": "0.3.2",
      "provenance": []
    },
    "kernelspec": {
      "name": "python3",
      "display_name": "Python 3"
    }
  },
  "cells": [
    {
      "cell_type": "code",
      "metadata": {
        "id": "qHTNhOayUJsj",
        "colab_type": "code",
        "colab": {
          "base_uri": "https://localhost:8080/",
          "height": 34
        },
        "outputId": "6bf45cc5-7806-4c15-fed1-0bdf2e60938a"
      },
      "source": [
        "s = \"The cities I like most in India are Mumbai, Bangalore, Dharamsala and Allahabad.\"\n",
        "s = s.lower()\n",
        "print(s)"
      ],
      "execution_count": 1,
      "outputs": [
        {
          "output_type": "stream",
          "text": [
            "the cities i like most in india are mumbai, bangalore, dharamsala and allahabad.\n"
          ],
          "name": "stdout"
        }
      ]
    },
    {
      "cell_type": "code",
      "metadata": {
        "id": "x7nlTrgbUpsL",
        "colab_type": "code",
        "colab": {
          "base_uri": "https://localhost:8080/",
          "height": 34
        },
        "outputId": "4c17850d-126b-44fa-dd6d-460c9d798e44"
      },
      "source": [
        "words = ['indiA', 'India', 'india', 'iNDia']\n",
        "words = [word.lower() for word in words]\n",
        "print(words)"
      ],
      "execution_count": 2,
      "outputs": [
        {
          "output_type": "stream",
          "text": [
            "['india', 'india', 'india', 'india']\n"
          ],
          "name": "stdout"
        }
      ]
    }
  ]
}