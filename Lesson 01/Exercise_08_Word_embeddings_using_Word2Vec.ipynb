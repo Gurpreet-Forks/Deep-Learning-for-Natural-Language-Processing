{
  "nbformat": 4,
  "nbformat_minor": 0,
  "metadata": {
    "colab": {
      "name": "Exercise_08_Word embeddings using Word2Vec.ipynb",
      "version": "0.3.2",
      "provenance": []
    },
    "kernelspec": {
      "name": "python3",
      "display_name": "Python 3"
    }
  },
  "cells": [
    {
      "cell_type": "code",
      "metadata": {
        "id": "01qdyj32Zq77",
        "colab_type": "code",
        "colab": {}
      },
      "source": [
        "from gensim.models import Word2Vec as wtv\n",
        "from nltk import word_tokenize"
      ],
      "execution_count": 0,
      "outputs": []
    },
    {
      "cell_type": "code",
      "metadata": {
        "id": "4z0xStGMZrng",
        "colab_type": "code",
        "colab": {}
      },
      "source": [
        "s1 = \"Ariana Grande is a singer\"\n",
        "s2 = \"She has been a singer for many years\"\n",
        "s3 = \"Ariana is a great singer\"\n",
        "sentences = [word_tokenize(s1), word_tokenize(s2), word_tokenize(s3)]"
      ],
      "execution_count": 0,
      "outputs": []
    },
    {
      "cell_type": "code",
      "metadata": {
        "id": "05EVyKkIZvNF",
        "colab_type": "code",
        "colab": {}
      },
      "source": [
        "model = wtv(sentences, min_count = 1)"
      ],
      "execution_count": 0,
      "outputs": []
    },
    {
      "cell_type": "code",
      "metadata": {
        "id": "TlZvbGi3Z2cl",
        "colab_type": "code",
        "colab": {
          "base_uri": "https://localhost:8080/",
          "height": 51
        },
        "outputId": "3b9b0fca-3fea-45ef-b551-7cdb53a4c13f"
      },
      "source": [
        "print('this is the summary of the model: ')\n",
        "print(model)"
      ],
      "execution_count": 29,
      "outputs": [
        {
          "output_type": "stream",
          "text": [
            "this is the summary of the model: \n",
            "Word2Vec(vocab=12, size=100, alpha=0.025)\n"
          ],
          "name": "stdout"
        }
      ]
    },
    {
      "cell_type": "code",
      "metadata": {
        "id": "C4R9akkOZ_NM",
        "colab_type": "code",
        "colab": {
          "base_uri": "https://localhost:8080/",
          "height": 51
        },
        "outputId": "3602853e-e08e-4278-d5e8-29ea6f892c71"
      },
      "source": [
        "words = list(model.wv.vocab)\n",
        "print('this is the vocabulary for our corpus: ')\n",
        "print(words)"
      ],
      "execution_count": 30,
      "outputs": [
        {
          "output_type": "stream",
          "text": [
            "this is the vocabulary for our corpus: \n",
            "['Ariana', 'Grande', 'is', 'a', 'singer', 'She', 'has', 'been', 'for', 'many', 'years', 'great']\n"
          ],
          "name": "stdout"
        }
      ]
    },
    {
      "cell_type": "code",
      "metadata": {
        "id": "Fgq_U-lraB1r",
        "colab_type": "code",
        "colab": {
          "base_uri": "https://localhost:8080/",
          "height": 513
        },
        "outputId": "cec53185-5de7-4c94-da73-665ab7cc9e74"
      },
      "source": [
        "print(\"the vector for the word singer: \")\n",
        "print(model['singer'])"
      ],
      "execution_count": 31,
      "outputs": [
        {
          "output_type": "stream",
          "text": [
            "the vector for the word singer: \n",
            "[ 3.8115273e-03 -5.2335509e-04 -1.0770237e-03  5.4282369e-04\n",
            " -3.9079520e-03  4.9235406e-03  4.3273908e-03 -4.2523947e-03\n",
            "  4.9017146e-03 -2.4513090e-03  3.5942984e-03  4.4636601e-03\n",
            " -4.4471580e-03  7.9600478e-04 -1.2448194e-03 -1.2171818e-03\n",
            "  8.2818653e-05 -3.5454598e-03 -2.2217100e-03 -2.6480341e-03\n",
            " -9.4609597e-04  3.2738447e-03  1.4035088e-03  3.1414486e-03\n",
            "  3.5558946e-03 -3.7221170e-03  5.3739041e-04  1.5124911e-03\n",
            " -4.0846034e-03 -6.2940788e-04  3.5807784e-03 -4.9324380e-03\n",
            "  4.9844859e-03 -1.8110590e-03  4.7266055e-03 -4.1506425e-04\n",
            " -3.8790351e-03 -3.7629232e-03  3.4934578e-03  4.5860927e-03\n",
            "  5.3992384e-04 -1.3960991e-03  1.1189891e-03  7.1697478e-04\n",
            " -2.5224732e-03 -1.6649098e-03  2.0704595e-03 -4.1024950e-03\n",
            " -1.1513425e-03 -8.4715569e-04  2.5795230e-03  1.2000122e-03\n",
            " -3.9552143e-03 -4.8086401e-03  1.0976194e-03  4.0270155e-03\n",
            "  4.6654437e-03  1.4565454e-03  4.3278970e-03 -2.8940759e-04\n",
            "  2.5847405e-03 -2.1040982e-03 -3.3942959e-03 -9.4949635e-04\n",
            " -4.8516630e-03  3.4894894e-03  1.1874860e-03 -2.1318453e-03\n",
            " -4.0989877e-03  4.8170844e-03 -1.2275428e-03 -4.9564503e-03\n",
            " -4.5370176e-03 -1.3786099e-03 -3.6047590e-03 -1.7607559e-03\n",
            "  2.0168440e-03  3.3206434e-04  4.5725699e-03 -3.4195415e-03\n",
            "  4.8649176e-03  2.0872243e-03  1.5849280e-03 -3.1301901e-03\n",
            " -2.4322094e-03 -1.1658223e-03  4.4905492e-03  1.3013652e-03\n",
            " -2.6007476e-03 -4.7546043e-03  5.9134729e-04 -8.9287810e-04\n",
            " -7.6067657e-04  1.9923185e-03  4.3465351e-03 -3.2134776e-03\n",
            " -4.4378941e-03 -3.7588300e-03 -3.3486683e-03 -4.7383681e-03]\n"
          ],
          "name": "stdout"
        },
        {
          "output_type": "stream",
          "text": [
            "/usr/local/lib/python3.6/dist-packages/ipykernel_launcher.py:2: DeprecationWarning: Call to deprecated `__getitem__` (Method will be removed in 4.0.0, use self.wv.__getitem__() instead).\n",
            "  \n"
          ],
          "name": "stderr"
        }
      ]
    }
  ]
}