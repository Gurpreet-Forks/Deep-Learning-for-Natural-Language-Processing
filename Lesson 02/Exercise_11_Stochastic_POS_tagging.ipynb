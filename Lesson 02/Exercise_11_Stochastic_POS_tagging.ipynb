{
  "nbformat": 4,
  "nbformat_minor": 0,
  "metadata": {
    "colab": {
      "name": "Exercise_11_Stochastic POS tagging.ipynb",
      "version": "0.3.2",
      "provenance": []
    },
    "kernelspec": {
      "name": "python3",
      "display_name": "Python 3"
    }
  },
  "cells": [
    {
      "cell_type": "code",
      "metadata": {
        "id": "VybqWd3Mz3-E",
        "colab_type": "code",
        "outputId": "e98c8e89-f479-4352-9055-e73ea7f405f3",
        "colab": {
          "base_uri": "https://localhost:8080/",
          "height": 68
        }
      },
      "source": [
        "nltk.download('tagsets')"
      ],
      "execution_count": 0,
      "outputs": [
        {
          "output_type": "stream",
          "text": [
            "[nltk_data] Downloading package tagsets to /root/nltk_data...\n",
            "[nltk_data]   Unzipping help/tagsets.zip.\n"
          ],
          "name": "stdout"
        },
        {
          "output_type": "execute_result",
          "data": {
            "text/plain": [
              "True"
            ]
          },
          "metadata": {
            "tags": []
          },
          "execution_count": 12
        }
      ]
    },
    {
      "cell_type": "code",
      "metadata": {
        "id": "V_EyHchbzxJN",
        "colab_type": "code",
        "outputId": "a43d9eef-6a76-4f47-ddf0-53aa34c7afca",
        "colab": {
          "base_uri": "https://localhost:8080/",
          "height": 85
        }
      },
      "source": [
        "nltk.help.upenn_tagset(\"NN\")"
      ],
      "execution_count": 0,
      "outputs": [
        {
          "output_type": "stream",
          "text": [
            "NN: noun, common, singular or mass\n",
            "    common-carrier cabbage knuckle-duster Casino afghan shed thermostat\n",
            "    investment slide humour falloff slick wind hyena override subhumanity\n",
            "    machinist ...\n"
          ],
          "name": "stdout"
        }
      ]
    },
    {
      "cell_type": "code",
      "metadata": {
        "id": "56aOGi_R0JpK",
        "colab_type": "code",
        "colab": {}
      },
      "source": [
        "sent = \"and so i said i’m going to play the piano for the play tonight\""
      ],
      "execution_count": 0,
      "outputs": []
    },
    {
      "cell_type": "code",
      "metadata": {
        "id": "oZM64dr60Mm5",
        "colab_type": "code",
        "outputId": "315cc94d-d7fa-41d5-de3f-2a7c7344276e",
        "colab": {
          "base_uri": "https://localhost:8080/",
          "height": 289
        }
      },
      "source": [
        "tagset = nltk.pos_tag(nltk.word_tokenize(sent))\n",
        "tagset\n"
      ],
      "execution_count": 0,
      "outputs": [
        {
          "output_type": "execute_result",
          "data": {
            "text/plain": [
              "[('and', 'CC'),\n",
              " ('so', 'RB'),\n",
              " ('i', 'JJ'),\n",
              " ('said', 'VBD'),\n",
              " ('i', 'JJ'),\n",
              " ('’', 'NNP'),\n",
              " ('m', 'NN'),\n",
              " ('going', 'VBG'),\n",
              " ('to', 'TO'),\n",
              " ('play', 'VB'),\n",
              " ('the', 'DT'),\n",
              " ('piano', 'NN'),\n",
              " ('for', 'IN'),\n",
              " ('the', 'DT'),\n",
              " ('play', 'NN'),\n",
              " ('tonight', 'NN')]"
            ]
          },
          "metadata": {
            "tags": []
          },
          "execution_count": 15
        }
      ]
    },
    {
      "cell_type": "code",
      "metadata": {
        "id": "p4hB9gYXvoCT",
        "colab_type": "code",
        "colab": {}
      },
      "source": [
        "spacy.explain(\"VBZ\")"
      ],
      "execution_count": 0,
      "outputs": []
    }
  ]
}