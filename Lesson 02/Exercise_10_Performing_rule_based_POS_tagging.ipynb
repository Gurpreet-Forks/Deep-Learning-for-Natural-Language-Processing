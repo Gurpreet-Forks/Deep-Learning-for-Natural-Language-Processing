{
  "nbformat": 4,
  "nbformat_minor": 0,
  "metadata": {
    "colab": {
      "name": "Exercise10_Performing rule based POS tagging.ipynb",
      "version": "0.3.2",
      "provenance": []
    },
    "kernelspec": {
      "name": "python3",
      "display_name": "Python 3"
    }
  },
  "cells": [
    {
      "cell_type": "code",
      "metadata": {
        "id": "eJlpVwcgPOiC",
        "colab_type": "code",
        "colab": {}
      },
      "source": [
        "import nltk"
      ],
      "execution_count": 0,
      "outputs": []
    },
    {
      "cell_type": "code",
      "metadata": {
        "id": "eNRQHi7RPcWo",
        "colab_type": "code",
        "colab": {}
      },
      "source": [
        "nltk.download('punkt')\n",
        "nltk.download('averaged_perceptron_tagger')\n",
        "nltk.download('tagsets')"
      ],
      "execution_count": 0,
      "outputs": []
    },
    {
      "cell_type": "code",
      "metadata": {
        "id": "KKp5vMkZPdVo",
        "colab_type": "code",
        "colab": {}
      },
      "source": [
        "s = \"i enjoy playing the piano\"\n",
        "tokens = nltk.word_tokenize(s)\n",
        "tokens"
      ],
      "execution_count": 0,
      "outputs": []
    },
    {
      "cell_type": "code",
      "metadata": {
        "id": "vXIEP6_uPeHp",
        "colab_type": "code",
        "colab": {}
      },
      "source": [
        "tagged = nltk.pos_tag(tokens)\n",
        "tagged"
      ],
      "execution_count": 0,
      "outputs": []
    },
    {
      "cell_type": "code",
      "metadata": {
        "id": "scJ9qt6dPfeb",
        "colab_type": "code",
        "colab": {}
      },
      "source": [
        "nltk.help.upenn_tagset(\"VBP\")"
      ],
      "execution_count": 0,
      "outputs": []
    },
    {
      "cell_type": "code",
      "metadata": {
        "id": "6s-osRz8PgbY",
        "colab_type": "code",
        "colab": {}
      },
      "source": [
        "nltk.help.upenn_tagset(\"VBG\")"
      ],
      "execution_count": 0,
      "outputs": []
    },
    {
      "cell_type": "code",
      "metadata": {
        "id": "CtiZDyDTPhm8",
        "colab_type": "code",
        "colab": {}
      },
      "source": [
        "nltk.help.upenn_tagset(\"VB\")"
      ],
      "execution_count": 0,
      "outputs": []
    },
    {
      "cell_type": "code",
      "metadata": {
        "id": "jjqqVhIZPi5g",
        "colab_type": "code",
        "colab": {}
      },
      "source": [
        "nltk.help.upenn_tagset(\"NN\")"
      ],
      "execution_count": 0,
      "outputs": []
    }
  ]
}