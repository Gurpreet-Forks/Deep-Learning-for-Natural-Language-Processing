{
  "nbformat": 4,
  "nbformat_minor": 0,
  "metadata": {
    "colab": {
      "name": "Exercise_16_NER with spacy.ipynb",
      "version": "0.3.2",
      "provenance": []
    },
    "kernelspec": {
      "name": "python3",
      "display_name": "Python 3"
    },
    "accelerator": "GPU"
  },
  "cells": [
    {
      "cell_type": "code",
      "metadata": {
        "id": "LwbpyNU5d2B7",
        "colab_type": "code",
        "colab": {}
      },
      "source": [
        "doc = nlp(u\"Shubhangi visited the Taj Mahal after taking a SpiceJet flight from Pune.\")"
      ],
      "execution_count": 0,
      "outputs": []
    },
    {
      "cell_type": "code",
      "metadata": {
        "id": "8MiNK5U-d2Ng",
        "colab_type": "code",
        "colab": {}
      },
      "source": [
        "for ent in doc.ents:\n",
        "    print(ent.text, ent.label_)\n"
      ],
      "execution_count": 0,
      "outputs": []
    },
    {
      "cell_type": "code",
      "metadata": {
        "id": "HXLsbt5Jd2VK",
        "colab_type": "code",
        "colab": {}
      },
      "source": [
        "doc1 = nlp(u\"Shubhangi Hora visited the Taj Mahal after taking a SpiceJet flight from Pune.\")"
      ],
      "execution_count": 0,
      "outputs": []
    },
    {
      "cell_type": "code",
      "metadata": {
        "id": "dc8d0hxgd2bq",
        "colab_type": "code",
        "colab": {}
      },
      "source": [
        "for ent in doc1.ents:\n",
        "    print(ent.text, ent.label_)\n"
      ],
      "execution_count": 0,
      "outputs": []
    }
  ]
}