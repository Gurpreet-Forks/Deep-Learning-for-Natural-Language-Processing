{
  "nbformat": 4,
  "nbformat_minor": 0,
  "metadata": {
    "colab": {
      "name": "Exercise_15_NER with NLTK .ipynb",
      "version": "0.3.2",
      "provenance": []
    },
    "kernelspec": {
      "name": "python3",
      "display_name": "Python 3"
    },
    "accelerator": "GPU"
  },
  "cells": [
    {
      "cell_type": "code",
      "metadata": {
        "id": "gQAhCxGsdafq",
        "colab_type": "code",
        "colab": {}
      },
      "source": [
        "ex = \"Shubhangi visited the Taj Mahal after taking a SpiceJet flight from Pune.\"\n",
        "tags = nltk.pos_tag(nltk.word_tokenize(ex))\n",
        "ne = nltk.ne_chunk(tags, binary = True)\n",
        "ne.draw()"
      ],
      "execution_count": 0,
      "outputs": []
    },
    {
      "cell_type": "code",
      "metadata": {
        "id": "5_It1cwVdbiA",
        "colab_type": "code",
        "colab": {}
      },
      "source": [
        "ner = nltk.ne_chunk(tags, binary = False)\n",
        "ner.draw()"
      ],
      "execution_count": 0,
      "outputs": []
    },
    {
      "cell_type": "code",
      "metadata": {
        "id": "96VEfAzxddQw",
        "colab_type": "code",
        "colab": {}
      },
      "source": [
        "print(ner)"
      ],
      "execution_count": 0,
      "outputs": []
    }
  ]
}