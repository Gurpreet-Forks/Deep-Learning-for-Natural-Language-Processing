{
  "nbformat": 4,
  "nbformat_minor": 0,
  "metadata": {
    "colab": {
      "name": "Exercise_14_Chinking .ipynb",
      "version": "0.3.2",
      "provenance": []
    },
    "kernelspec": {
      "name": "python3",
      "display_name": "Python 3"
    },
    "accelerator": "GPU"
  },
  "cells": [
    {
      "cell_type": "code",
      "metadata": {
        "id": "GkwKrw0-dAgl",
        "colab_type": "code",
        "colab": {}
      },
      "source": [
        "rule = r\"\"\"Chink: {<.*>+}}<VB.?|CC|RB|JJ|IN|DT|TO>+{\"\"\"\n"
      ],
      "execution_count": 0,
      "outputs": []
    },
    {
      "cell_type": "code",
      "metadata": {
        "id": "b8E-sfB1dPPW",
        "colab_type": "code",
        "colab": {}
      },
      "source": [
        "chinked = chinkParser.parse(tagset)\n",
        "chinked.draw()\n"
      ],
      "execution_count": 0,
      "outputs": []
    },
    {
      "cell_type": "code",
      "metadata": {
        "id": "LtJRs41ddP99",
        "colab_type": "code",
        "colab": {}
      },
      "source": [
        "chinked = chinkParser.parse(tagset)\n",
        "chinked.draw()\n"
      ],
      "execution_count": 0,
      "outputs": []
    }
  ]
}