{
  "nbformat": 4,
  "nbformat_minor": 0,
  "metadata": {
    "colab": {
      "name": "Activity_3_NER on tagged corpus.ipynb",
      "version": "0.3.2",
      "provenance": []
    },
    "kernelspec": {
      "name": "python3",
      "display_name": "Python 3"
    },
    "accelerator": "GPU"
  },
  "cells": [
    {
      "cell_type": "code",
      "metadata": {
        "id": "HMf46swMeN50",
        "colab_type": "code",
        "colab": {
          "base_uri": "https://localhost:8080/",
          "height": 1122
        },
        "outputId": "68398fb6-aee8-4654-cddf-18b2aa3ac604"
      },
      "source": [
        "import nltk\n",
        "nltk.download('treebank')\n",
        "nltk.download('maxent_ne_chunker')\n",
        "nltk.download('words')\n",
        "\n",
        "nltk.corpus.treebank.tagged_sents()\n",
        "sent = nltk.corpus.treebank.tagged_sents()[0]\n",
        "print(nltk.ne_chunk(sent, binary=True))\n",
        "\n",
        "sent = nltk.corpus.treebank.tagged_sents()[1]\n",
        "print(nltk.ne_chunk(sent, binary=False))\n",
        "\n",
        "sent = nltk.corpus.treebank.tagged_sents()[2]\n",
        "print(nltk.ne_chunk(sent))\n"
      ],
      "execution_count": 8,
      "outputs": [
        {
          "output_type": "stream",
          "text": [
            "[nltk_data] Downloading package treebank to /root/nltk_data...\n",
            "[nltk_data]   Unzipping corpora/treebank.zip.\n",
            "[nltk_data] Downloading package maxent_ne_chunker to\n",
            "[nltk_data]     /root/nltk_data...\n",
            "[nltk_data]   Unzipping chunkers/maxent_ne_chunker.zip.\n",
            "[nltk_data] Downloading package words to /root/nltk_data...\n",
            "[nltk_data]   Unzipping corpora/words.zip.\n",
            "(S\n",
            "  (NE Pierre/NNP Vinken/NNP)\n",
            "  ,/,\n",
            "  61/CD\n",
            "  years/NNS\n",
            "  old/JJ\n",
            "  ,/,\n",
            "  will/MD\n",
            "  join/VB\n",
            "  the/DT\n",
            "  board/NN\n",
            "  as/IN\n",
            "  a/DT\n",
            "  nonexecutive/JJ\n",
            "  director/NN\n",
            "  Nov./NNP\n",
            "  29/CD\n",
            "  ./.)\n",
            "(S\n",
            "  (PERSON Mr./NNP)\n",
            "  (PERSON Vinken/NNP)\n",
            "  is/VBZ\n",
            "  chairman/NN\n",
            "  of/IN\n",
            "  (ORGANIZATION Elsevier/NNP)\n",
            "  N.V./NNP\n",
            "  ,/,\n",
            "  the/DT\n",
            "  (GPE Dutch/NNP)\n",
            "  publishing/VBG\n",
            "  group/NN\n",
            "  ./.)\n",
            "(S\n",
            "  (PERSON Rudolph/NNP)\n",
            "  (GPE Agnew/NNP)\n",
            "  ,/,\n",
            "  55/CD\n",
            "  years/NNS\n",
            "  old/JJ\n",
            "  and/CC\n",
            "  former/JJ\n",
            "  chairman/NN\n",
            "  of/IN\n",
            "  (ORGANIZATION Consolidated/NNP Gold/NNP Fields/NNP)\n",
            "  PLC/NNP\n",
            "  ,/,\n",
            "  was/VBD\n",
            "  named/VBN\n",
            "  *-1/-NONE-\n",
            "  a/DT\n",
            "  nonexecutive/JJ\n",
            "  director/NN\n",
            "  of/IN\n",
            "  this/DT\n",
            "  (GPE British/JJ)\n",
            "  industrial/JJ\n",
            "  conglomerate/NN\n",
            "  ./.)\n"
          ],
          "name": "stdout"
        }
      ]
    }
  ]
}