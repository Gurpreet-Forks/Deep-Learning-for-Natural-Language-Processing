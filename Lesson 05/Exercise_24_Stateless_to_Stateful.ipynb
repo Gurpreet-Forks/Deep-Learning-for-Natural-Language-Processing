{
  "nbformat": 4,
  "nbformat_minor": 0,
  "metadata": {
    "colab": {
      "name": "Exercise_24_Stateless to Stateful.ipynb",
      "version": "0.3.2",
      "provenance": []
    },
    "kernelspec": {
      "name": "python3",
      "display_name": "Python 3"
    }
  },
  "cells": [
    {
      "cell_type": "code",
      "metadata": {
        "id": "8_JASVhPkkgb",
        "colab_type": "code",
        "colab": {}
      },
      "source": [
        "from keras.models import Sequential\n",
        "from keras.layers import SimpleRNN, Dense"
      ],
      "execution_count": 0,
      "outputs": []
    },
    {
      "cell_type": "code",
      "metadata": {
        "id": "P_xxS29ykyVa",
        "colab_type": "code",
        "colab": {}
      },
      "source": [
        "model = Sequential()\n",
        "# Recurrent layer\n",
        "model.add(SimpleRNN(64, input_shape=(1000,100), return_sequences=True,\n",
        "stateful=False))\n",
        "# Fully connected layer\n",
        "model.add(Dense(64, activation='relu'))\n",
        "# Output layer\n",
        "model.add(Dense(100, activation='softmax'))\n",
        "model.summary()"
      ],
      "execution_count": 0,
      "outputs": []
    },
    {
      "cell_type": "code",
      "metadata": {
        "id": "wekYoQp_kzGW",
        "colab_type": "code",
        "colab": {}
      },
      "source": [
        "model.compile(optimizer='adam', loss='categorical_crossentropy',\n",
        "metrics=['accuracy'])\n",
        "model.fit(X, Y, batch_size=32, epochs=100, shuffle=True)"
      ],
      "execution_count": 0,
      "outputs": []
    },
    {
      "cell_type": "code",
      "metadata": {
        "id": "Nq2T4IFHkz_k",
        "colab_type": "code",
        "colab": {}
      },
      "source": [
        "model = Sequential()\n",
        "# Recurrent layer\n",
        "model.add(SimpleRNN(64, input_shape=(1000,100), return_sequences=True,\n",
        "stateful=True))\n",
        "# Fully connected layer\n",
        "model.add(Dense(64, activation='relu'))\n",
        "# Output layer\n",
        "model.add(Dense(100, activation='softmax'))"
      ],
      "execution_count": 0,
      "outputs": []
    },
    {
      "cell_type": "code",
      "metadata": {
        "id": "FYPszntWk0yL",
        "colab_type": "code",
        "colab": {}
      },
      "source": [
        "model.compile(optimizer='adam', loss='categorical_crossentropy',\n",
        "metrics=['accuracy'])\n",
        "model.fit(X, Y, batch_size=1, epochs=100, shuffle=False)"
      ],
      "execution_count": 0,
      "outputs": []
    }
  ]
}