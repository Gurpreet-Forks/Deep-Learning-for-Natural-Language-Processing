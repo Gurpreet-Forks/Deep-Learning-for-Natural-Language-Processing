{
  "nbformat": 4,
  "nbformat_minor": 0,
  "metadata": {
    "colab": {
      "name": "Exercise 23_Build a RNN model.ipynb",
      "version": "0.3.2",
      "provenance": []
    },
    "kernelspec": {
      "name": "python3",
      "display_name": "Python 3"
    }
  },
  "cells": [
    {
      "cell_type": "code",
      "metadata": {
        "id": "7lHi9f3OdPh6",
        "colab_type": "code",
        "outputId": "c123bbca-8fd0-48d9-cbc7-ce2cd1e2274e",
        "colab": {
          "base_uri": "https://localhost:8080/",
          "height": 34
        }
      },
      "source": [
        "from keras.models import Sequential\n",
        "from keras.layers import SimpleRNN, Dense\n"
      ],
      "execution_count": 0,
      "outputs": [
        {
          "output_type": "stream",
          "text": [
            "Using TensorFlow backend.\n"
          ],
          "name": "stderr"
        }
      ]
    },
    {
      "cell_type": "code",
      "metadata": {
        "id": "6Xn-mBSLdbV6",
        "colab_type": "code",
        "outputId": "5c3fbf55-0b49-46eb-eeac-a569e1ea31fd",
        "colab": {
          "base_uri": "https://localhost:8080/",
          "height": 68
        }
      },
      "source": [
        "model = Sequential()\n",
        "# Recurrent layer\n",
        "model.add(SimpleRNN(64, input_shape=(10,100), return_sequences=False))\n",
        "# Fully connected layer\n",
        "model.add(Dense(64, activation='relu'))\n",
        "# Output layer\n",
        "model.add(Dense(100, activation='softmax'))\n"
      ],
      "execution_count": 0,
      "outputs": [
        {
          "output_type": "stream",
          "text": [
            "WARNING:tensorflow:From /usr/local/lib/python3.6/dist-packages/tensorflow/python/framework/op_def_library.py:263: colocate_with (from tensorflow.python.framework.ops) is deprecated and will be removed in a future version.\n",
            "Instructions for updating:\n",
            "Colocations handled automatically by placer.\n"
          ],
          "name": "stdout"
        }
      ]
    },
    {
      "cell_type": "code",
      "metadata": {
        "id": "zSSsSCY7ddee",
        "colab_type": "code",
        "outputId": "558f2717-6b45-4b43-8c1a-bdfdfe0c2a3c",
        "colab": {
          "base_uri": "https://localhost:8080/",
          "height": 238
        }
      },
      "source": [
        "model.summary()"
      ],
      "execution_count": 0,
      "outputs": [
        {
          "output_type": "stream",
          "text": [
            "_________________________________________________________________\n",
            "Layer (type)                 Output Shape              Param #   \n",
            "=================================================================\n",
            "simple_rnn_1 (SimpleRNN)     (None, 64)                10560     \n",
            "_________________________________________________________________\n",
            "dense_1 (Dense)              (None, 64)                4160      \n",
            "_________________________________________________________________\n",
            "dense_2 (Dense)              (None, 100)               6500      \n",
            "=================================================================\n",
            "Total params: 21,220\n",
            "Trainable params: 21,220\n",
            "Non-trainable params: 0\n",
            "_________________________________________________________________\n"
          ],
          "name": "stdout"
        }
      ]
    },
    {
      "cell_type": "code",
      "metadata": {
        "id": "O6-GfEPBepvE",
        "colab_type": "code",
        "outputId": "ff69fd8e-0790-4832-89be-09be2118132e",
        "colab": {
          "base_uri": "https://localhost:8080/",
          "height": 238
        }
      },
      "source": [
        "model = Sequential()\n",
        "# Recurrent layer\n",
        "model.add(SimpleRNN(64, input_shape=(10,100), return_sequences=True))\n",
        "# Fully connected layer\n",
        "model.add(Dense(64, activation='relu'))\n",
        "# Output layer\n",
        "model.add(Dense(100, activation='softmax'))\n",
        "model.summary()"
      ],
      "execution_count": 0,
      "outputs": [
        {
          "output_type": "stream",
          "text": [
            "_________________________________________________________________\n",
            "Layer (type)                 Output Shape              Param #   \n",
            "=================================================================\n",
            "simple_rnn_3 (SimpleRNN)     (None, 10, 64)            10560     \n",
            "_________________________________________________________________\n",
            "dense_5 (Dense)              (None, 10, 64)            4160      \n",
            "_________________________________________________________________\n",
            "dense_6 (Dense)              (None, 10, 100)           6500      \n",
            "=================================================================\n",
            "Total params: 21,220\n",
            "Trainable params: 21,220\n",
            "Non-trainable params: 0\n",
            "_________________________________________________________________\n"
          ],
          "name": "stdout"
        }
      ]
    },
    {
      "cell_type": "code",
      "metadata": {
        "id": "EApekp5DfuD8",
        "colab_type": "code",
        "outputId": "cfc34be1-5883-4175-ecd3-7a8c53382ba8",
        "colab": {
          "base_uri": "https://localhost:8080/",
          "height": 238
        }
      },
      "source": [
        "model = Sequential()\n",
        "# Recurrent layer\n",
        "model.add(SimpleRNN(64, input_shape=(1000,100), return_sequences=True))\n",
        "# Fully connected layer\n",
        "model.add(Dense(64, activation='relu'))\n",
        "# Output layer\n",
        "model.add(Dense(100, activation='softmax'))\n",
        "model.summary()"
      ],
      "execution_count": 0,
      "outputs": [
        {
          "output_type": "stream",
          "text": [
            "_________________________________________________________________\n",
            "Layer (type)                 Output Shape              Param #   \n",
            "=================================================================\n",
            "simple_rnn_5 (SimpleRNN)     (None, 1000, 64)          10560     \n",
            "_________________________________________________________________\n",
            "dense_9 (Dense)              (None, 1000, 64)          4160      \n",
            "_________________________________________________________________\n",
            "dense_10 (Dense)             (None, 1000, 100)         6500      \n",
            "=================================================================\n",
            "Total params: 21,220\n",
            "Trainable params: 21,220\n",
            "Non-trainable params: 0\n",
            "_________________________________________________________________\n"
          ],
          "name": "stdout"
        }
      ]
    }
  ]
}